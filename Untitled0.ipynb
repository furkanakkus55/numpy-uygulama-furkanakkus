{
  "cells": [
    {
      "cell_type": "markdown",
      "source": [
        "NUMPY UYGULAMA"
      ],
      "metadata": {
        "id": "RdWVjCBqIHgo"
      }
    },
    {
      "cell_type": "code",
      "source": [
        "# NUMPY GETTİNG STARTED\n",
        "# NUMPY KÜTÜPHANESİ YÜKLÜ OLUP OLMADIĞINI KONTROL EDİYORUM\n",
        "import numpy as np\n",
        "print(np.__version__)"
      ],
      "metadata": {
        "colab": {
          "base_uri": "https://localhost:8080/"
        },
        "id": "oTrTOUdhICd2",
        "outputId": "d4b38582-9a6c-4824-f20f-6c487043efb0"
      },
      "execution_count": null,
      "outputs": [
        {
          "output_type": "stream",
          "name": "stdout",
          "text": [
            "2.0.2\n"
          ]
        }
      ]
    },
    {
      "cell_type": "code",
      "source": [
        "# NUMPY CREATİNG ARRAYS\n",
        "# BURADA BİR NUMPY DİZİSİ OLUŞTURUYORUM VE YAZDIRIYORUM.\n",
        "arr = np.array([1, 2, 3, 4, 5, 6, 7, 8, 9, 10]) # 10 elemanı olan bir liste\n",
        "print(arr) # dizi ekrana yazdırılıyor\n"
      ],
      "metadata": {
        "colab": {
          "base_uri": "https://localhost:8080/"
        },
        "id": "3dwOU45rIPfm",
        "outputId": "236e981a-eca8-43c3-e133-4747dabd83fd"
      },
      "execution_count": null,
      "outputs": [
        {
          "output_type": "stream",
          "name": "stdout",
          "text": [
            "[ 1  2  3  4  5  6  7  8  9 10]\n"
          ]
        }
      ]
    },
    {
      "cell_type": "code",
      "source": [
        "# NUMPY ARRAY İNDEXİNG\n",
        "# BİR LİSTE İÇERİSİNDEKİ ELEMANA İNDEX NUMARASI İLE ERİŞİM SAĞLIYORUM\n",
        "arr = np.array([i for i in range(1, 10001)])\n",
        "print(arr[430])  # 430. indeksteki eleman olan 431'i yazdırıyor.\n"
      ],
      "metadata": {
        "colab": {
          "base_uri": "https://localhost:8080/"
        },
        "id": "7RqSHlv4I4H4",
        "outputId": "e3a347a9-121f-4b56-b477-bfc7cfcdb6f1"
      },
      "execution_count": null,
      "outputs": [
        {
          "output_type": "stream",
          "name": "stdout",
          "text": [
            "431\n"
          ]
        }
      ]
    },
    {
      "cell_type": "code",
      "source": [
        "# NUMPY ARRAY SLİCİNG\n",
        "# NUMPY DİZİLERİNDE SLİCİNG(DİLİMLEME) ÖRNEĞİ YAPIYORUM VE EKRANA ÇIKTISINI YAZIYORUM.\n",
        "arr = np.array([i for i in range(1, 10001)])\n",
        "print(arr[1:500])  # 1. ve 500. indeks arasındaki elemanları yazdırır: [2, 3,...,500]\n"
      ],
      "metadata": {
        "colab": {
          "base_uri": "https://localhost:8080/"
        },
        "id": "oZLQfmvsJRGB",
        "outputId": "d913e337-6a70-4572-b94b-3d7cc992fb87"
      },
      "execution_count": null,
      "outputs": [
        {
          "output_type": "stream",
          "name": "stdout",
          "text": [
            "[  2   3   4   5   6   7   8   9  10  11  12  13  14  15  16  17  18  19\n",
            "  20  21  22  23  24  25  26  27  28  29  30  31  32  33  34  35  36  37\n",
            "  38  39  40  41  42  43  44  45  46  47  48  49  50  51  52  53  54  55\n",
            "  56  57  58  59  60  61  62  63  64  65  66  67  68  69  70  71  72  73\n",
            "  74  75  76  77  78  79  80  81  82  83  84  85  86  87  88  89  90  91\n",
            "  92  93  94  95  96  97  98  99 100 101 102 103 104 105 106 107 108 109\n",
            " 110 111 112 113 114 115 116 117 118 119 120 121 122 123 124 125 126 127\n",
            " 128 129 130 131 132 133 134 135 136 137 138 139 140 141 142 143 144 145\n",
            " 146 147 148 149 150 151 152 153 154 155 156 157 158 159 160 161 162 163\n",
            " 164 165 166 167 168 169 170 171 172 173 174 175 176 177 178 179 180 181\n",
            " 182 183 184 185 186 187 188 189 190 191 192 193 194 195 196 197 198 199\n",
            " 200 201 202 203 204 205 206 207 208 209 210 211 212 213 214 215 216 217\n",
            " 218 219 220 221 222 223 224 225 226 227 228 229 230 231 232 233 234 235\n",
            " 236 237 238 239 240 241 242 243 244 245 246 247 248 249 250 251 252 253\n",
            " 254 255 256 257 258 259 260 261 262 263 264 265 266 267 268 269 270 271\n",
            " 272 273 274 275 276 277 278 279 280 281 282 283 284 285 286 287 288 289\n",
            " 290 291 292 293 294 295 296 297 298 299 300 301 302 303 304 305 306 307\n",
            " 308 309 310 311 312 313 314 315 316 317 318 319 320 321 322 323 324 325\n",
            " 326 327 328 329 330 331 332 333 334 335 336 337 338 339 340 341 342 343\n",
            " 344 345 346 347 348 349 350 351 352 353 354 355 356 357 358 359 360 361\n",
            " 362 363 364 365 366 367 368 369 370 371 372 373 374 375 376 377 378 379\n",
            " 380 381 382 383 384 385 386 387 388 389 390 391 392 393 394 395 396 397\n",
            " 398 399 400 401 402 403 404 405 406 407 408 409 410 411 412 413 414 415\n",
            " 416 417 418 419 420 421 422 423 424 425 426 427 428 429 430 431 432 433\n",
            " 434 435 436 437 438 439 440 441 442 443 444 445 446 447 448 449 450 451\n",
            " 452 453 454 455 456 457 458 459 460 461 462 463 464 465 466 467 468 469\n",
            " 470 471 472 473 474 475 476 477 478 479 480 481 482 483 484 485 486 487\n",
            " 488 489 490 491 492 493 494 495 496 497 498 499 500]\n"
          ]
        }
      ]
    },
    {
      "cell_type": "code",
      "source": [
        "# NUMPY DATA TYPES\n",
        "# NUMPY DİZİSİNİN VERİ TİPİNİ ÖĞRENİYORUM VE EKRANA YAZDIRIYORUM.\n",
        "arr = np.array([1, 2, 3, 4 , 5, 6, 7])  # dizi oluşturuldu\n",
        "print(arr.dtype)  # Dizi elemanlarının veri tipini yazdırıyorum\n"
      ],
      "metadata": {
        "colab": {
          "base_uri": "https://localhost:8080/"
        },
        "id": "xlpaB8NoJ_6U",
        "outputId": "18251e1c-c557-455d-efb3-ab6ccbf4019c"
      },
      "execution_count": null,
      "outputs": [
        {
          "output_type": "stream",
          "name": "stdout",
          "text": [
            "int64\n"
          ]
        }
      ]
    },
    {
      "cell_type": "code",
      "source": [
        "# NUMPY COPY VS VİE\n",
        "# NUMPY DİZİSİNİN GÖRÜNÜMÜNÜ VE KOPYASINI KARŞILAŞTIRMAK\n",
        "import numpy as np\n",
        "\n",
        "# 1000 e kadar olan bir liste oluşturuyorum\n",
        "arr = np.array([i for i in range(1, 10001)])\n",
        "\n",
        "# Görünüm ve kopya dizisi oluşturuyorum\n",
        "view_arr = arr.view()  # Görünüm (view)\n",
        "copy_arr = arr.copy()  # Kopya\n",
        "\n",
        "# Mevcut dizinin ilk elemanını değiştiriyorum\n",
        "arr[0] = 102  #ilk eleman değişti ve artık [102] oldu\n",
        "\n",
        "#4.elemandan 15.inci elemana kadar görünümünü yazdırıyorum\n",
        "print(\"Görünüm Dizisi yazdırılıyor(View):\", view_arr[4:15])#5.elemandan 15.inci elemana kadar yazdırıyorum\n",
        "\n",
        "# İlk 15 elemanı yazdırıyorum\n",
        "print(\"Kopya Dizisi yazdırılıyor(Copy):\", copy_arr[:15])  # İlk 15 elemanı yazdırıyorum\n"
      ],
      "metadata": {
        "colab": {
          "base_uri": "https://localhost:8080/"
        },
        "id": "XpGRQ6xdMcV3",
        "outputId": "29d68f82-d80f-4707-8de6-50bc0089382b"
      },
      "execution_count": null,
      "outputs": [
        {
          "output_type": "stream",
          "name": "stdout",
          "text": [
            "Görünüm Dizisi yazdırılıyor(View): [ 5  6  7  8  9 10 11 12 13 14 15]\n",
            "Kopya Dizisi yazdırılıyor(Copy): [ 1  2  3  4  5  6  7  8  9 10 11 12 13 14 15]\n"
          ]
        }
      ]
    },
    {
      "cell_type": "code",
      "source": [
        "# NUMPY ARRAY RESHAPE\n",
        "# NUMPY DİZİSİNDE SATIR VE SÜTÜN OLUŞTURMAK\n",
        "import numpy as np\n",
        "\n",
        "#Bir 2D NumPy dizisi oluşturuyorum\n",
        "#i: Satır numarasını temsil eder.\n",
        "#j: Sütun numarasını temsil eder.\n",
        "arr = np.array([[i + j for j in range(100)] for i in range(100)])\n",
        "\n",
        "# Dizinin şeklini inceliyorum\n",
        "print(arr.shape)  #Dizinin şekli satır ve sütun olarak yazdırılıyor(100,100)\n"
      ],
      "metadata": {
        "colab": {
          "base_uri": "https://localhost:8080/"
        },
        "id": "xgvY2MM9PJXb",
        "outputId": "0b6f2c84-f764-4cb1-8721-41430f4b9e3e"
      },
      "execution_count": null,
      "outputs": [
        {
          "output_type": "stream",
          "name": "stdout",
          "text": [
            "(100, 100)\n"
          ]
        }
      ]
    },
    {
      "cell_type": "code",
      "source": [
        "# NUMPY ARRAY RESHAPE\n",
        "# NUMPY DİZİSİNİ YENİDEN ŞEKİLLENDİRMEK İÇİN KULLANIYORUM\n",
        "arr = np.array([1, 2, 3, 4, 5, 6])\n",
        "reshaped_arr = arr.reshape(2, 3)  #Yeni bir dizi oluşturuldu\n",
        "print(reshaped_arr)\n"
      ],
      "metadata": {
        "colab": {
          "base_uri": "https://localhost:8080/"
        },
        "id": "UXNsFu7UQzxV",
        "outputId": "c79cab4e-bc66-4183-f64b-a7b86bd8e70e"
      },
      "execution_count": null,
      "outputs": [
        {
          "output_type": "stream",
          "name": "stdout",
          "text": [
            "[[1 2 3]\n",
            " [4 5 6]]\n"
          ]
        }
      ]
    },
    {
      "cell_type": "code",
      "source": [
        "# NUMPY ARRAY İTERATİNG\n",
        "# NUMPY DİZİLERİNDE DÖNGÜ İLE İTERASYON YAPIYORUM.\n",
        "import numpy as np\n",
        "\n",
        "# BİR LİSTE OLUŞTURDUM (100 e kadar sayılar içeren)\n",
        "arr = np.array([i for i in range(1, 101)])\n",
        "\n",
        "# Diziyi tek tek yineleyip elemanları yazdırıyorum\n",
        "for eleman in arr:\n",
        "    print(eleman)\n"
      ],
      "metadata": {
        "colab": {
          "base_uri": "https://localhost:8080/"
        },
        "collapsed": true,
        "id": "1ABo3IvaRa4F",
        "outputId": "a6a64645-9049-4ee1-ae99-c1f9bc25955d"
      },
      "execution_count": null,
      "outputs": [
        {
          "output_type": "stream",
          "name": "stdout",
          "text": [
            "1\n",
            "2\n",
            "3\n",
            "4\n",
            "5\n",
            "6\n",
            "7\n",
            "8\n",
            "9\n",
            "10\n",
            "11\n",
            "12\n",
            "13\n",
            "14\n",
            "15\n",
            "16\n",
            "17\n",
            "18\n",
            "19\n",
            "20\n",
            "21\n",
            "22\n",
            "23\n",
            "24\n",
            "25\n",
            "26\n",
            "27\n",
            "28\n",
            "29\n",
            "30\n",
            "31\n",
            "32\n",
            "33\n",
            "34\n",
            "35\n",
            "36\n",
            "37\n",
            "38\n",
            "39\n",
            "40\n",
            "41\n",
            "42\n",
            "43\n",
            "44\n",
            "45\n",
            "46\n",
            "47\n",
            "48\n",
            "49\n",
            "50\n",
            "51\n",
            "52\n",
            "53\n",
            "54\n",
            "55\n",
            "56\n",
            "57\n",
            "58\n",
            "59\n",
            "60\n",
            "61\n",
            "62\n",
            "63\n",
            "64\n",
            "65\n",
            "66\n",
            "67\n",
            "68\n",
            "69\n",
            "70\n",
            "71\n",
            "72\n",
            "73\n",
            "74\n",
            "75\n",
            "76\n",
            "77\n",
            "78\n",
            "79\n",
            "80\n",
            "81\n",
            "82\n",
            "83\n",
            "84\n",
            "85\n",
            "86\n",
            "87\n",
            "88\n",
            "89\n",
            "90\n",
            "91\n",
            "92\n",
            "93\n",
            "94\n",
            "95\n",
            "96\n",
            "97\n",
            "98\n",
            "99\n",
            "100\n"
          ]
        }
      ]
    },
    {
      "cell_type": "code",
      "source": [
        "# NUMPY ARRAY JOİN\n",
        "# İKİ AYRI NUMPY DİZİSİNİ BİRLEŞTİRİYORUM.\n",
        "arr1 = np.array([1, 2, 3]) #1. diziyi oluşturdum\n",
        "arr2 = np.array([4, 5, 6]) #2.diziyi oluşturdum\n",
        "joined_arr = np.concatenate((arr1, arr2))  # İki diziyi birleştiriyorum\n",
        "print(\"elde edilen yeni dizi:\",joined_arr)  # ekrana yazdırılıyor\n"
      ],
      "metadata": {
        "colab": {
          "base_uri": "https://localhost:8080/"
        },
        "id": "dTWxwE4aSlop",
        "outputId": "6097d789-fe67-4d88-e511-9bad33b3dce0"
      },
      "execution_count": null,
      "outputs": [
        {
          "output_type": "stream",
          "name": "stdout",
          "text": [
            "elde edilen yeni dizi: [1 2 3 4 5 6]\n"
          ]
        }
      ]
    },
    {
      "cell_type": "code",
      "source": [
        "# NUMPY ARRAY SPLİT\n",
        "# NUMPY DİZİLERİNDE ELİMİZDE OLAN DİZİLERİ BÖLMEK.\n",
        "\n",
        "arr = np.array([1, 2, 3, 4, 5, 6]) #  6 elamanlı dizi oluşturdum\n",
        "split_arr = np.split(arr, 3)  # Diziyi 3 eşit parçaya bölüyorum\n",
        "print(split_arr)  # [array([1, 2]), array([3, 4]), array([5, 6])]\n",
        "                  # yukarıdaki şekildeki gibi bir çıktı alacağız.\n",
        "\n"
      ],
      "metadata": {
        "colab": {
          "base_uri": "https://localhost:8080/"
        },
        "id": "FcvrD1uhTjDq",
        "outputId": "d9913e64-c898-4354-cfc6-18831b0f1989"
      },
      "execution_count": null,
      "outputs": [
        {
          "output_type": "stream",
          "name": "stdout",
          "text": [
            "[array([1, 2]), array([3, 4]), array([5, 6])]\n"
          ]
        }
      ]
    },
    {
      "cell_type": "code",
      "source": [
        "# NUMPY ARRAY SEARCH\n",
        "# NUMPY DİZİLERİ İÇERİSİNDE ARAMA YAPMAK\n",
        "arr = np.array([1, 2, 3, 4, 5]) # 5 elemanlı dizi oluşturdum\n",
        "index_of_3 = np.where(arr == 3)  # 3'ün indeksini arıyorum\n",
        "print( \"aradığınız dizi elemanı:\",index_of_3)  #3'ün indeksi 2'dir\n"
      ],
      "metadata": {
        "colab": {
          "base_uri": "https://localhost:8080/"
        },
        "id": "GrLQGF8hVfTG",
        "outputId": "d9e35666-7c4c-4d23-8658-15f70a682f5e"
      },
      "execution_count": null,
      "outputs": [
        {
          "output_type": "stream",
          "name": "stdout",
          "text": [
            "aradığınız dizi elemanı: (array([2]),)\n"
          ]
        }
      ]
    },
    {
      "cell_type": "code",
      "source": [
        "# NUMPY ARRAY SORT\n",
        "# NUMPY DİZİSİNDEKİ ELEMANLARI SIRALAMAK\n",
        "arr = np.array([5, 2, 3, 1, 4]) # 5 elemanlı bir liste oluşturuldu\n",
        "sorted_arr = np.sort(arr)  # Diziyi küçükten büyüğe sıralıyorum\n",
        "print(sorted_arr)  # ekrana yazdırılıyor\n"
      ],
      "metadata": {
        "colab": {
          "base_uri": "https://localhost:8080/",
          "height": 211
        },
        "id": "WOjp6ehVXG5Z",
        "outputId": "366a6816-1f16-45ad-de04-325f0cd52061"
      },
      "execution_count": null,
      "outputs": [
        {
          "output_type": "error",
          "ename": "NameError",
          "evalue": "name 'np' is not defined",
          "traceback": [
            "\u001b[0;31m---------------------------------------------------------------------------\u001b[0m",
            "\u001b[0;31mNameError\u001b[0m                                 Traceback (most recent call last)",
            "\u001b[0;32m<ipython-input-1-8b377dc23266>\u001b[0m in \u001b[0;36m<cell line: 0>\u001b[0;34m()\u001b[0m\n\u001b[1;32m      1\u001b[0m \u001b[0;31m# NUMPY ARRAY SORT\u001b[0m\u001b[0;34m\u001b[0m\u001b[0;34m\u001b[0m\u001b[0m\n\u001b[1;32m      2\u001b[0m \u001b[0;31m# NUMPY DİZİSİNDEKİ ELEMANLARI SIRALAMAK\u001b[0m\u001b[0;34m\u001b[0m\u001b[0;34m\u001b[0m\u001b[0m\n\u001b[0;32m----> 3\u001b[0;31m \u001b[0marr\u001b[0m \u001b[0;34m=\u001b[0m \u001b[0mnp\u001b[0m\u001b[0;34m.\u001b[0m\u001b[0marray\u001b[0m\u001b[0;34m(\u001b[0m\u001b[0;34m[\u001b[0m\u001b[0;36m5\u001b[0m\u001b[0;34m,\u001b[0m \u001b[0;36m2\u001b[0m\u001b[0;34m,\u001b[0m \u001b[0;36m3\u001b[0m\u001b[0;34m,\u001b[0m \u001b[0;36m1\u001b[0m\u001b[0;34m,\u001b[0m \u001b[0;36m4\u001b[0m\u001b[0;34m]\u001b[0m\u001b[0;34m)\u001b[0m \u001b[0;31m# 5 elemanlı bir liste oluşturuldu\u001b[0m\u001b[0;34m\u001b[0m\u001b[0;34m\u001b[0m\u001b[0m\n\u001b[0m\u001b[1;32m      4\u001b[0m \u001b[0msorted_arr\u001b[0m \u001b[0;34m=\u001b[0m \u001b[0mnp\u001b[0m\u001b[0;34m.\u001b[0m\u001b[0msort\u001b[0m\u001b[0;34m(\u001b[0m\u001b[0marr\u001b[0m\u001b[0;34m)\u001b[0m  \u001b[0;31m# Diziyi küçükten büyüğe sıralıyorum\u001b[0m\u001b[0;34m\u001b[0m\u001b[0;34m\u001b[0m\u001b[0m\n\u001b[1;32m      5\u001b[0m \u001b[0mprint\u001b[0m\u001b[0;34m(\u001b[0m\u001b[0msorted_arr\u001b[0m\u001b[0;34m)\u001b[0m  \u001b[0;31m# ekrana yazdırılıyor\u001b[0m\u001b[0;34m\u001b[0m\u001b[0;34m\u001b[0m\u001b[0m\n",
            "\u001b[0;31mNameError\u001b[0m: name 'np' is not defined"
          ]
        }
      ]
    },
    {
      "cell_type": "code",
      "source": [
        "# NUMPY ARRAY FİLTER\n",
        "# NUMPY DİZİSİNDE FİLTRELEME YAPMAK\n",
        "import numpy as np\n",
        "\n",
        "# Büyük bir dizi oluşturuyorum (1'den 10000'e kadar olan sayılar)\n",
        "arr = np.array([i for i in range(1, 10001)])\n",
        "\n",
        "# 5000'den büyük olan elemanları alıyorum\n",
        "filtered_arr = arr[arr > 5000]\n",
        "\n",
        "# Filtrelenmiş diziyi yazdırıyorum (ilk 10 elemanını göstereceğim)\n",
        "print(filtered_arr[:50])  # İlk 50 elemanı yazdırıyorum\n"
      ],
      "metadata": {
        "id": "5r7rrjHwYznb"
      },
      "execution_count": null,
      "outputs": []
    },
    {
      "cell_type": "code",
      "source": [
        "## NumPy Uygulama Çalışması\n",
        "\n",
        "Bu repo, NumPy kütüphanesini kullanarak temel dizi işlemleri üzerine yapılan bir uygulama çalışmasını içermektedir. Çalışma, NumPy'nin temel özelliklerini ve fonksiyonlarını anlamak için çeşitli örnekler ve uygulamalar içermektedir.\n",
        "\n",
        "## İçerik\n",
        "\n",
        "Bu repoda aşağıdaki konularda örnekler bulunmaktadır:\n",
        "\n",
        "- **NumPy Getting Started**: NumPy kurulumu ve temel kullanım.\n",
        "- **NumPy Creating Arrays**: NumPy dizisi oluşturma.\n",
        "- **NumPy Array Indexing**: NumPy dizilerinde indeksleme.\n",
        "- **NumPy Array Slicing**: NumPy dizilerinde dilimleme.\n",
        "- **NumPy Data Types**: NumPy dizilerinin veri tiplerini öğrenme.\n",
        "- **NumPy Copy vs View**: NumPy dizisinin kopyasını ve görünümünü karşılaştırma.\n",
        "- **NumPy Array Shape**: NumPy dizisinin boyutları hakkında bilgi alma.\n",
        "- **NumPy Array Reshape**: NumPy dizisini yeniden şekillendirme.\n",
        "- **NumPy Array Iterating**: NumPy dizisi üzerinde döngü ile iterasyon yapma.\n",
        "- **NumPy Array Join**: NumPy dizilerini birleştirme.\n",
        "- **NumPy Array Split**: NumPy dizilerini bölme.\n",
        "- **NumPy Array Search**: NumPy dizilerinde arama yapma.\n",
        "- **NumPy Array Sort**: NumPy dizisini sıralama.\n",
        "- **NumPy Array Filter**: NumPy dizisinde belirli koşullara göre filtreleme.\n",
        "\n",
        "## Amaç\n",
        "\n",
        "Bu çalışma ile NumPy kütüphanesinin temel fonksiyonlarını ve dizilerle ilgili temel işlemleri öğrenmeyi amaçladım. Bu kodları çözerek, NumPy'nin sunduğu çeşitli özellikleri daha iyi kavramaya çalıştım.\n",
        "\n",
        "## Kullanım\n",
        "\n",
        "1. Bu repo'daki **uygulamalar.py** dosyasını bir Python ortamında çalıştırabilirsiniz.\n",
        "2. NumPy'nin yüklü olması gerektiğini unutmayın. NumPy'yi yüklemek için aşağıdaki komutu kullanabilirsiniz:\n",
        "\n",
        "```bash\n",
        "pip install numpy"
      ],
      "metadata": {
        "id": "Ky3qAAfTffAY"
      },
      "execution_count": null,
      "outputs": []
    },
    {
      "cell_type": "code",
      "source": [
        "try:\n",
        "    sayı = int(input(\"0'dan 10000 arası sayı giriniz: \"))\n",
        "    if sayı not in range(0, 10001):\n",
        "        raise Exception(\"Sayı, 0-10000 arası olmalıdır.\") # oelleştirme hata mesajı verebılıuyorz\n",
        "    print(\"Girdiğiniz sayı:\", sayı)\n",
        "except Exception as hata:\n",
        "    print(\"HATANIZ:\", hata)\n"
      ],
      "metadata": {
        "id": "j7xtBCbS3PTQ"
      },
      "execution_count": null,
      "outputs": []
    },
    {
      "cell_type": "code",
      "source": [
        "kenar=int(input(\"bir kenar giriniz:\"))\n",
        "alan=kenar*kenar\n",
        "print(alan)"
      ],
      "metadata": {
        "colab": {
          "base_uri": "https://localhost:8080/"
        },
        "id": "XwCqwHXtzEuB",
        "outputId": "0acdd51b-b0a9-4722-b823-de9ffd5eede1"
      },
      "execution_count": null,
      "outputs": [
        {
          "output_type": "stream",
          "name": "stdout",
          "text": [
            "bir kenar giriniz:40\n",
            "1600\n"
          ]
        }
      ]
    },
    {
      "cell_type": "code",
      "source": [
        "try:\n",
        "  s1=int(input(\"birinci sayı:\"))\n",
        "  sonuc = s1**2\n",
        "  print(sonuc)\n",
        "except ValueError as problem:\n",
        "  print(\"sayı gir kardeşim\")\n",
        "  print(problem)\n"
      ],
      "metadata": {
        "colab": {
          "base_uri": "https://localhost:8080/"
        },
        "id": "s6arGOXt0qg0",
        "outputId": "e2c86965-8b39-408c-ee3d-c583e6d35667"
      },
      "execution_count": null,
      "outputs": [
        {
          "output_type": "stream",
          "name": "stdout",
          "text": [
            "birinci sayı:ghc\n",
            "sayı gir kardeşim\n",
            "invalid literal for int() with base 10: 'ghc'\n"
          ]
        }
      ]
    },
    {
      "cell_type": "code",
      "source": [
        "from abc import ABC, abstractmethod\n",
        "\n",
        "class OdemeYontemi(ABC):\n",
        "    @abstractmethod\n",
        "    def odeme_yap(self, tutar):\n",
        "        pass\n",
        "\n",
        "\n",
        "class KrediKartıOdeme(OdemeYontemi):\n",
        "    def odeme_yap(self, tutar):\n",
        "        print(f\"{tutar} TL kredi kartı ile ödendi.\")\n",
        "\n",
        "\n",
        "class PayPalOdeme(OdemeYontemi):\n",
        "    def odeme_yap(self, tutar):\n",
        "        print(f\"{tutar} TL PayPal ile ödendi.\")\n",
        "\n",
        "\n",
        "odeme_yontemleri = [\n",
        "    KrediKartıOdeme(),\n",
        "    PayPalOdeme()\n",
        "]\n",
        "\n",
        "for yontem in odeme_yontemleri:\n",
        "    yontem.odeme_yap(100)\n",
        "\n"
      ],
      "metadata": {
        "colab": {
          "base_uri": "https://localhost:8080/"
        },
        "id": "tnZZe6KZ76V1",
        "outputId": "5d76ceb5-eb4f-40ba-bc65-bc46e029a342"
      },
      "execution_count": null,
      "outputs": [
        {
          "output_type": "stream",
          "name": "stdout",
          "text": [
            "100 TL kredi kartı ile ödendi.\n",
            "100 TL PayPal ile ödendi.\n"
          ]
        }
      ]
    },
    {
      "cell_type": "code",
      "source": [
        "#COK BİÇİMLİLİK : aynı isimdeki metodların farklı sınnıflarda farklı davranışlar sergilemesi\n",
        "#SOYUTLAMA : gereksiz detayları ggizleyerek sadece onemli isimleri gösterir.\n",
        "\n",
        "\n",
        "\n",
        "# cok biçimlilik örnegi:\n",
        "class HesapMakinesi:\n",
        "    def topla(self,a,b,c=0):\n",
        "      return a+b+c\n",
        "hesap=HesapMakinesi()\n",
        "print(hesap.topla(1,2,3))\n",
        "print(hesap.topla(1,60))"
      ],
      "metadata": {
        "colab": {
          "base_uri": "https://localhost:8080/"
        },
        "id": "-nSuSV-Frrnk",
        "outputId": "4d851365-d9fc-45d1-ff2f-2a01fcc942e4"
      },
      "execution_count": null,
      "outputs": [
        {
          "output_type": "stream",
          "name": "stdout",
          "text": [
            "6\n",
            "61\n"
          ]
        }
      ]
    },
    {
      "cell_type": "code",
      "source": [
        "from abc import ABC, abstractmethod\n",
        "import math  # math modülünü import ettik\n",
        "\n",
        "class Sekil(ABC):  # Soyut sınıf\n",
        "    @abstractmethod\n",
        "    def alan(self):\n",
        "        pass\n",
        "\n",
        "class Kare(Sekil):\n",
        "    def __init__(self, kenar):\n",
        "        self.__kenar = kenar\n",
        "\n",
        "    def alan(self):\n",
        "        return self.__kenar ** 2\n",
        "\n",
        "class Daire(Sekil):\n",
        "    def __init__(self, yaricap):\n",
        "        self.__yaricap = yaricap  # Just assign yaricap as is\n",
        "\n",
        "    def alan(self):\n",
        "        return math.pi * (self.__yaricap ** 2)\n",
        "\n",
        "\n",
        "sekiller = [Kare(5), Daire(3)]\n",
        "\n",
        "for sekil in sekiller:\n",
        "    print(f\"{sekil.__class__.__name__} alanı: {sekil.alan()}\")\n",
        "\n",
        "\n"
      ],
      "metadata": {
        "colab": {
          "base_uri": "https://localhost:8080/"
        },
        "id": "YJwaynmhwdnE",
        "outputId": "c9468381-1cc4-444f-f0a6-d6fddd07ba58"
      },
      "execution_count": null,
      "outputs": [
        {
          "output_type": "stream",
          "name": "stdout",
          "text": [
            "Kare alanı: 25\n",
            "Daire alanı: 28.274333882308138\n"
          ]
        }
      ]
    },
    {
      "cell_type": "code",
      "source": [
        "\n",
        "#COK BICIMLILIK ORNEGİ\n",
        "\n",
        "\n",
        "#parent class - Temel Sınıf\n",
        "class Hayvan:\n",
        "    def __init__(self, isim):\n",
        "        self.isim = isim\n",
        "\n",
        "    def ses_cıkar(self):\n",
        "        return \"Bu hayvan bir ses çıkarıyor\"\n",
        "\n",
        "# Child class - Kedi\n",
        "class Kedi(Hayvan):\n",
        "    def ses_cıkar(self):\n",
        "        return f\"{self.isim}: Miyav!\"\n",
        "\n",
        "# Child class - Köpek\n",
        "class Kopek(Hayvan):\n",
        "    def ses_cıkar(self):\n",
        "        return f\"{self.isim}: Hav hav!\"\n",
        "\n",
        "# Child class - Kuş\n",
        "class Kus(Hayvan):\n",
        "    def ses_cıkar(self):\n",
        "        return f\"{self.isim}: Cik cik!\"\n",
        "\n",
        "# List of animals\n",
        "hayvanlar = [\n",
        "    Kedi(\"Minnoş\"),\n",
        "    Kopek(\"Karabaş\"),\n",
        "    Kus(\"Maviş\")\n",
        "]\n",
        "\n",
        "# Loop through the animals and call the `ses_cıkar` method\n",
        "for hayvan in hayvanlar:\n",
        "    print(hayvan.ses_cıkar())\n"
      ],
      "metadata": {
        "colab": {
          "base_uri": "https://localhost:8080/"
        },
        "id": "1j5IhdnwuLb1",
        "outputId": "85a325db-4d28-421d-e45c-b3caf81ad013"
      },
      "execution_count": null,
      "outputs": [
        {
          "output_type": "stream",
          "name": "stdout",
          "text": [
            "[<__main__.Kedi object at 0x7cba8c50fb90>, <__main__.Kopek object at 0x7cba8c50f810>, <__main__.Kus object at 0x7cba8c7549d0>]\n"
          ]
        }
      ]
    },
    {
      "cell_type": "code",
      "source": [
        "\n",
        "#KAPSÜLLEME KOD ÖRNEKLERİ\n",
        "class Ogrenciler:\n",
        "    def __init__(self, adi, yasi, tcno):\n",
        "        self.ad = adi\n",
        "        self.yasi = yasi\n",
        "        self.__tcno = tcno\n",
        "\n",
        "    def ogrenciYaz(self):\n",
        "        print(\"Adı:\", self.ad)\n",
        "        print(\"Yaşı:\", self.yasi)\n",
        "        print(\"TC No:\", self.__tcno)\n",
        "\n",
        "    def get_tcno(self):\n",
        "        return str(self.__tcno)[7:]\n",
        "\n",
        "\n",
        "ogrenci = Ogrenciler(\"Furkan Akkuş\", 20, 155411684684)\n",
        "ogrenci.ogrenciYaz()\n",
        "print(ogrenci.ad)\n",
        "print(ogrenci.yasi)\n",
        "print(ogrenci.get_tcno())"
      ],
      "metadata": {
        "colab": {
          "base_uri": "https://localhost:8080/"
        },
        "id": "g6lbDJNfr1BR",
        "outputId": "f51216b9-a3d8-4435-cc8c-d6b655956e93"
      },
      "execution_count": null,
      "outputs": [
        {
          "output_type": "stream",
          "name": "stdout",
          "text": [
            "Adı: Furkan Akkuş\n",
            "Yaşı: 20\n",
            "TC No: 155411684684\n",
            "Furkan Akkuş\n",
            "20\n",
            "84684\n"
          ]
        }
      ]
    },
    {
      "cell_type": "code",
      "execution_count": null,
      "metadata": {
        "id": "vmFzkA6Gkey_"
      },
      "outputs": [],
      "source": [
        "print(\" E-Devlet Sisteme giriş yapmak istiyor musunuz? (evet/hayır)\")\n",
        "cevap = input(\"Cevabınız: \")\n",
        "\n",
        "if cevap == \"evet\":\n",
        "    print(\"Sisteme giriş başarılı!\")\n",
        "elif cevap == \"hayır\":\n",
        " print(\"Sisteme giriş başarısız.\")\n",
        "else:\n",
        "    print(\"Sisteme giriş başarısız: Geçersiz giriş.\")\n"
      ]
    },
    {
      "cell_type": "code",
      "execution_count": null,
      "metadata": {
        "colab": {
          "base_uri": "https://localhost:8080/"
        },
        "id": "VUWexcV8goaq",
        "outputId": "42090c96-df16-42c5-f544-924eb9cf787f"
      },
      "outputs": [
        {
          "name": "stdout",
          "output_type": "stream",
          "text": [
            "Requirement already satisfied: yt-dlp in /usr/local/lib/python3.11/dist-packages (2025.2.19)\n"
          ]
        }
      ],
      "source": [
        "!pip install yt-dlp"
      ]
    },
    {
      "cell_type": "code",
      "execution_count": null,
      "metadata": {
        "colab": {
          "base_uri": "https://localhost:8080/",
          "height": 110
        },
        "id": "Q2jem77XgbIJ",
        "outputId": "6a93c7da-59e9-42e8-9372-55c5fc2454df"
      },
      "outputs": [
        {
          "ename": "SyntaxError",
          "evalue": "invalid syntax (<ipython-input-8-ad7fc7fe1bd9>, line 1)",
          "output_type": "error",
          "traceback": [
            "\u001b[0;36m  File \u001b[0;32m\"<ipython-input-8-ad7fc7fe1bd9>\"\u001b[0;36m, line \u001b[0;32m1\u001b[0m\n\u001b[0;31m    https://www.youtube.com/watch?v=GYYP0JENfm0\u001b[0m\n\u001b[0m          ^\u001b[0m\n\u001b[0;31mSyntaxError\u001b[0m\u001b[0;31m:\u001b[0m invalid syntax\n"
          ]
        }
      ],
      "source": [
        "import yt_dlp\n",
        "def video_download(url):\n",
        "    ydl_opts = {'format': 'best'}\n",
        "    with yt_dlp.YoutubeDL(ydl_opts) as ydl:\n",
        "        ydl.download([url])\n",
        "\n",
        "urlgiris = input(\"Url Giriniz: \")\n",
        "video_download(urlgiris)"
      ]
    },
    {
      "cell_type": "code",
      "execution_count": null,
      "metadata": {
        "colab": {
          "base_uri": "https://localhost:8080/"
        },
        "id": "Ld4gz4WXpNb0",
        "outputId": "6b90af35-8f7f-4caa-cf82-b320a1c516c3"
      },
      "outputs": [
        {
          "name": "stdout",
          "output_type": "stream",
          "text": [
            "1-Toplama\n",
            "2-Çıkarma\n",
            "3-Çarpma\n",
            "4-Bölme\n",
            "Yapmak istediğiniz işlemi seçiniz: 5\n",
            "Hatalı seçim yaptınız.\n"
          ]
        }
      ],
      "source": [
        "#parametrer alan ve sonucu ekrana yazdıran ve dört işlemi yapabilen programı yazınız fonksıyon kullanarak.\n",
        "\n",
        "def seçim_yapınız():\n",
        "    print(\"1-Toplama\")\n",
        "    print(\"2-Çıkarma\")\n",
        "    print(\"3-Çarpma\")\n",
        "    print(\"4-Bölme\")\n",
        "\n",
        "    seçim = int(input(\"Yapmak istediğiniz işlemi seçiniz: \"))\n",
        "\n",
        "    if seçim == 1:\n",
        "        sayı1 = int(input(\"Birinci sayıyı giriniz: \"))\n",
        "        sayı2 = int(input(\"İkinci sayıyı giriniz: \"))\n",
        "        toplama(sayı1, sayı2)\n",
        "    elif seçim == 2:\n",
        "        sayı1 = int(input(\"Birinci sayıyı giriniz: \"))\n",
        "        sayı2 = int(input(\"İkinci sayıyı giriniz: \"))\n",
        "        cikarma(sayı1, sayı2)\n",
        "    elif seçim == 3:\n",
        "        sayı1 = int(input(\"Birinci sayıyı giriniz: \"))\n",
        "        sayı2 = int(input(\"İkinci sayıyı giriniz: \"))\n",
        "        çarpma(sayı1, sayı2)\n",
        "    elif seçim == 4:\n",
        "        sayı1 = int(input(\"Birinci sayıyı giriniz: \"))\n",
        "        sayı2 = int(input(\"İkinci sayıyı giriniz: \"))\n",
        "        if sayı2 != 0:  # Bölme işleminde sıfıra bölme hatası kontrolü\n",
        "            bölme(sayı1, sayı2)\n",
        "        else:\n",
        "            print(\"Bölme işlemi için sıfırdan farklı bir sayı giriniz.\")\n",
        "    else:\n",
        "        print(\"Hatalı seçim yaptınız.\")\n",
        "\n",
        "def toplama(sayı1, sayı2):\n",
        "    toplam = sayı1 + sayı2\n",
        "    print(f\"Girmiş olduğunuz sayıların toplamı: {toplam}\")\n",
        "    return toplam\n",
        "\n",
        "def cikarma(sayı1, sayı2):\n",
        "    fark = sayı1 - sayı2\n",
        "    print(f\"Girmiş olduğunuz sayıların farkı: {fark}\")\n",
        "    return fark\n",
        "\n",
        "def çarpma(sayı1, sayı2):\n",
        "    çarpım = sayı1 * sayı2\n",
        "    print(f\"Çarpım sonucunuz: {çarpım}\")\n",
        "    return çarpım\n",
        "\n",
        "def bölme(sayı1, sayı2):\n",
        "    bölüm = sayı1 / sayı2\n",
        "    print(f\"Bölüm sonucunuz: {bölüm}\")\n",
        "    return bölüm\n",
        "\n",
        "# Programı başlat\n",
        "seçim_yapınız()\n"
      ]
    },
    {
      "cell_type": "code",
      "execution_count": null,
      "metadata": {
        "colab": {
          "background_save": true,
          "base_uri": "https://localhost:8080/"
        },
        "id": "LMUh721uazkS",
        "outputId": "57f03b61-9873-4401-d931-9def1bb5eeca"
      },
      "outputs": [
        {
          "name": "stdout",
          "output_type": "stream",
          "text": [
            "toplama degerinizin sonucu: 60\n"
          ]
        }
      ],
      "source": [
        "#fonskiyonlar ile toplama işlemleri\n",
        "\n",
        "def toplama():\n",
        "  sayı1=int(input(\"birinci sayıyı giriniz:\"))\n",
        "  sayı2=int(input(\"ikinci sayıyı giriniz:\"))\n",
        "  toplama=sayı1+sayı2\n",
        "  print(toplama)\n",
        "toplama()\n",
        "\n",
        "\n",
        "#parametre almayacak ama geri değer döndüren toplama işlemi\n",
        "def toplama2():\n",
        "  sayı1 = int(input(\"birinci sayıyı giriniz :\"))\n",
        "  sayı2 = int(input(\"ikinci sayıyı giriniz  :\"))\n",
        "  return sayı1+sayı2\n",
        "  #toplam=sayı1+sayı2\n",
        "  #return toplam\n",
        "\n",
        "# parametreli ve geri değer dödürmeyen fonksiyon\n",
        "def toplama3( a, b):\n",
        "  print(a+b)\n",
        "sayı1=int(input(\"bir sayı giriniz:\"))\n",
        "sayı2=int(input(\"ikinci sayıyı giriniz:\"))\n",
        "toplama3(sayı1,sayı2)\n",
        "\n",
        "# parametreli ve geri değer döndüren toplama işlemi\n",
        "def toplama4(a,b):\n",
        "  return a+b\n",
        "sayı1=int(input(\"bir sayı giriniz:\"))\n",
        "sayı2=int(input(\"ikinci sayıyı giriniz:\"))\n",
        "print(toplama4(sayı1,sayı2))\n",
        "\n"
      ]
    },
    {
      "cell_type": "code",
      "execution_count": null,
      "metadata": {
        "id": "XcqWrSCbfB4y"
      },
      "outputs": [],
      "source": [
        "# parametre alan asal mı değil mi diye kontrol eden programın kodları\n",
        "def asal_mi(sayi):\n",
        "    if sayi < 2:\n",
        "        print(\"Sayı asal.\")\n",
        "        return\n",
        "\n",
        "    for i in range(2, int(sayi**0.5) + 1):\n",
        "        if sayi % i == 0:\n",
        "            print(\"Sayı asal değildir.\")\n",
        "            return\n",
        "    print(\"Sayı asaldır.\")\n",
        "\n",
        "sayi = int(input(\"Bir sayı giriniz: \"))\n",
        "asal_mi(sayi)\n"
      ]
    },
    {
      "cell_type": "code",
      "execution_count": null,
      "metadata": {
        "id": "xDom8xHJhCVR"
      },
      "outputs": [],
      "source": [
        "#ekrandan girilen tc kimlik numarasının geçerli veya geçersiz olduğunu bulan fonksiyon\n",
        "#geriye true veya false değer döndürecek. tc nin ilk 10 rakamını toplayarak bu toplam\n",
        "#sonucunun birler basamağı 11. rakam eşit olacak\n",
        "\n",
        "tcno = input(\"TC Kimlik Numaranızı Giriniz:\")\n",
        "uzunluk = len(tcno)\n",
        "\n",
        "print(uzunluk)\n",
        "\n",
        "if uzunluk != 11:\n",
        "  print(\"Geçersiz TC Kimlik Numarası\")\n",
        "else:\n",
        "  print(\"Geçerli TC Kimlik Numarası\")\n",
        "  ilk_on = tcno[:10]\n",
        "  sonuncusayi = tcno[-1]\n",
        "  print(\"İlk 10 Sayı =\", ilk_on)\n",
        "\n",
        "  toplam = 0\n",
        "  for i in ilk_on:\n",
        "    toplam += int(i)\n",
        "  print(\"İlk 10 Sayının Toplamı =\", toplam)\n",
        "\n",
        "  if toplam % 10 == int(sonuncusayi):\n",
        "    print(\"Geçerli TC Kimlik Numarası , son rakam =\",sonuncusayi)\n",
        "  else:\n",
        "    print(\"Geçersiz TC Kimlik Numarası\")\n"
      ]
    },
    {
      "cell_type": "code",
      "execution_count": null,
      "metadata": {
        "colab": {
          "base_uri": "https://localhost:8080/"
        },
        "id": "ZHUnnNdmsdj2",
        "outputId": "0111bd76-dfc0-48de-95df-e6d5e4c8fac6"
      },
      "outputs": [
        {
          "name": "stdout",
          "output_type": "stream",
          "text": [
            "tc no giriniz:10256973676\n",
            "11\n",
            "geçerli\n",
            "1025697367\n",
            "ilk on sayının toplam= 46\n",
            "geçersiz\n"
          ]
        }
      ],
      "source": [
        "\n"
      ]
    },
    {
      "cell_type": "code",
      "execution_count": null,
      "metadata": {
        "colab": {
          "base_uri": "https://localhost:8080/"
        },
        "id": "P7JpVBWYxjnE",
        "outputId": "706ffe79-4e35-4de1-b6fb-4c510c5f4f26"
      },
      "outputs": [
        {
          "name": "stdout",
          "output_type": "stream",
          "text": [
            "Seçiminizi yapın (taş, kağıt, makas): taş\n",
            "Bilgisayarın seçimi: taş\n",
            "Kaybettiniz!\n"
          ]
        }
      ],
      "source": [
        "\n",
        "\n",
        "\n"
      ]
    },
    {
      "cell_type": "code",
      "execution_count": null,
      "metadata": {
        "colab": {
          "base_uri": "https://localhost:8080/"
        },
        "id": "KVU6f83ZzDUq",
        "outputId": "d724e769-51ec-4cf5-b913-3da49e618009"
      },
      "outputs": [
        {
          "name": "stdout",
          "output_type": "stream",
          "text": [
            "--- Kardeşim, Taş Kağıt Makas oyununa hoşgeldin! ---\n"
          ]
        }
      ],
      "source": [
        "import random\n",
        "\n",
        "def oyun():\n",
        "    while True:\n",
        "        print(\"--- Kardeşim, Taş Kağıt Makas oyununa hoşgeldin! ---\")\n",
        "        secim = input(\"Taş, Kağıt, Makas seçin: \")\n",
        "\n",
        "        bilgisayar_secim = random.choice(['taş', 'kağıt', 'makas'])\n",
        "        print(f\"Bilgisayar: {bilgisayar_secim}\")\n",
        "\n",
        "        if secim == bilgisayar_secim:\n",
        "            print(\"Beraberlik! Tekrar oynayalım.\")\n",
        "        elif (secim == 'taş' and bilgisayar_secim == 'makas') or (secim == 'kağıt' and bilgisayar_secim == 'taş') or (secim == 'makas' and bilgisayar_secim == 'kağıt'):\n",
        "            print(\"Kazandınız!\")\n",
        "        else:\n",
        "            print(\"Bilgisayar kazandı!\")\n",
        "\n",
        "oyun()\n",
        "\n",
        "\n"
      ]
    },
    {
      "cell_type": "code",
      "execution_count": null,
      "metadata": {
        "colab": {
          "base_uri": "https://localhost:8080/"
        },
        "id": "jNcsBqVkkDYN",
        "outputId": "3d0044fa-c1f7-42ce-8484-e34ad5e31741"
      },
      "outputs": [
        {
          "name": "stdout",
          "output_type": "stream",
          "text": [
            "TC Kimlik Numaranızı girin: 1025697367\n",
            "Geçersiz TC Kimlik Numarası.\n",
            "Son hane: Geçersiz giriş\n"
          ]
        }
      ],
      "source": [
        "\n"
      ]
    },
    {
      "cell_type": "code",
      "execution_count": null,
      "metadata": {
        "id": "Db5c1E2hfgKl"
      },
      "outputs": [],
      "source": []
    },
    {
      "cell_type": "code",
      "execution_count": null,
      "metadata": {
        "id": "3wHB6Kxweywp"
      },
      "outputs": [],
      "source": [
        "puan1=int(input(\"ilk notunuzu giriniz:\"))\n",
        "puan2=int(input(\"ikinci notunuzu giriniz:\"))\n",
        "ort=(puan1*puan2)/2\n",
        "if ort==50:\n",
        "  print(\"dersi geçtiniz:5)\")\n",
        "elif ort>50:\n",
        "  print(\"dersi geçtiniz:)\")\n",
        "else:\n",
        "  print(\"maalesef kaldınız:(\")"
      ]
    },
    {
      "cell_type": "code",
      "execution_count": null,
      "metadata": {
        "id": "XQ3OPD_NgzTq"
      },
      "outputs": [],
      "source": [
        "vize=int(input(\"vize notunuzu giriniz:\"))\n",
        "final=int(input(\"final notunuzu gırınız:\"))\n",
        "\n",
        "vize_agırlık=0.4\n",
        "fınal_agırlık=0.6\n",
        "\n",
        "ort=(vize*0.4)+(final*0.6)\n",
        "\n",
        "print(\"vize notunuz:\",vize,)\n",
        "print(\"final notunuz:\",final)\n",
        "\n",
        "print(\"ortalamanız\",ort)\n",
        "\n",
        "while ort<=50:\n",
        "  print(\"dersten kaldınız\")\n",
        "if ort>=50:\n",
        "  print(\"dersten geçtiniz.\")"
      ]
    },
    {
      "cell_type": "code",
      "execution_count": null,
      "metadata": {
        "id": "KXP_swsTiNvl"
      },
      "outputs": [],
      "source": [
        "kullanıcı_adı=\"furkan\"\n",
        "şifre=\"akkuş\"\n",
        "if kullanıcı_adı==\"furkan\"and şifre==\"akkuş\":\n",
        "  print(\"kullanıcı adı ve şifreniz doğrudur.\")\n",
        "else:\n",
        "  print(\"kullanıcı adı ya da şifreniz hatalıdır.\")"
      ]
    },
    {
      "cell_type": "code",
      "execution_count": null,
      "metadata": {
        "id": "W34IjiLhi52D"
      },
      "outputs": [],
      "source": [
        "sayı=int(input(\"bir sayı giriniz:\"))\n",
        "if sayı%2==0:\n",
        "  print(\"sayı çifttir\")\n",
        "if sayı%2==1:\n",
        "  print(\"sayı tektir\")\n"
      ]
    },
    {
      "cell_type": "code",
      "execution_count": null,
      "metadata": {
        "id": "iGZjtOXzjV3n"
      },
      "outputs": [],
      "source": [
        "ürün=int(input(\"aldığınız ürün fiyatını giriniz:\"))\n",
        "if ürün==100:\n",
        "  print(\"5tl kargo indirimi kazandınız\")\n",
        "  tutar=(100-5)\n",
        "  print(f\"ödemeniz gereken tutar:\"tutar)\n",
        "\n"
      ]
    },
    {
      "cell_type": "code",
      "execution_count": null,
      "metadata": {
        "id": "SEuJsN84kUoT"
      },
      "outputs": [],
      "source": [
        "ilk_ürün=int(input(\"ilk ürünün fiyatını giriniz:\"))\n",
        "ikinci_ürün=int(input(\"ikinci ürünün fiyatını giriniz:\"))\n",
        "toplam=(ilk_ürün+ikinci_ürün)\n",
        "if toplam>=200:\n",
        "  print(\"ikinci üründe %25 indirim kazandınız.\")"
      ]
    },
    {
      "cell_type": "code",
      "execution_count": null,
      "metadata": {
        "id": "a8NZM8VSl5EY"
      },
      "outputs": [],
      "source": [
        "sayı=int(input(\"bir sayı giriniz:\"))\n",
        "if sayı%2==0:\n",
        "  ysayı=sayı/2\n",
        "  print(ysayı)\n",
        "elif sayı%2==1:\n",
        "  tsayı=sayı*2\n",
        "  print(tsayı)"
      ]
    },
    {
      "cell_type": "code",
      "execution_count": null,
      "metadata": {
        "id": "bJ8Zyi_Zmo7b"
      },
      "outputs": [],
      "source": [
        "sayı1=int(input(\"birinci sayı giriniz:\"))\n",
        "sayı2=int(input(\"ikinci sayıyı giriniz:\"))\n",
        "if sayı1%sayı2==0:\n",
        "  print(\"TAM BÖLÜNÜYOR\")\n",
        "else:\n",
        "  sonuc=sayı1%sayı2\n",
        "  print(\"sayı tam bolunmımyor\")\n",
        "  print(sonuc)"
      ]
    },
    {
      "cell_type": "code",
      "execution_count": null,
      "metadata": {
        "id": "etMV_dVzVYhv"
      },
      "outputs": [],
      "source": [
        "#faktoriyel hesaplama programı döngülerle\n",
        "sayı=int(input(\"bir sayı giriniz:\"))\n",
        "faktoriyel=1\n",
        "for i in range(1,sayı+1):\n",
        "  faktoriyel*=i\n",
        "  print(\"girmiş oldugunuz değerin faktoriyel hesaplaması sonucu:\",faktoriyel)"
      ]
    },
    {
      "cell_type": "code",
      "execution_count": null,
      "metadata": {
        "colab": {
          "base_uri": "https://localhost:8080/",
          "height": 356
        },
        "id": "y_leRKWVZlLF",
        "outputId": "1d365986-5478-4da8-a97b-12ee48239c96"
      },
      "outputs": [
        {
          "ename": "KeyboardInterrupt",
          "evalue": "Interrupted by user",
          "output_type": "error",
          "traceback": [
            "\u001b[0;31m---------------------------------------------------------------------------\u001b[0m",
            "\u001b[0;31mKeyboardInterrupt\u001b[0m                         Traceback (most recent call last)",
            "\u001b[0;32m<ipython-input-3-50d55cadd87c>\u001b[0m in \u001b[0;36m<cell line: 0>\u001b[0;34m()\u001b[0m\n\u001b[1;32m      1\u001b[0m \u001b[0;31m#klavyeden negatif sayı girilene kadar girilen sayıların toplamını bulan programı yazınız\u001b[0m\u001b[0;34m\u001b[0m\u001b[0;34m\u001b[0m\u001b[0m\n\u001b[0;32m----> 2\u001b[0;31m \u001b[0msayı\u001b[0m\u001b[0;34m=\u001b[0m\u001b[0mint\u001b[0m\u001b[0;34m(\u001b[0m\u001b[0minput\u001b[0m\u001b[0;34m(\u001b[0m\u001b[0;34m\"bir sayı giriniz:\"\u001b[0m\u001b[0;34m)\u001b[0m\u001b[0;34m)\u001b[0m\u001b[0;34m\u001b[0m\u001b[0;34m\u001b[0m\u001b[0m\n\u001b[0m\u001b[1;32m      3\u001b[0m \u001b[0mtoplam\u001b[0m\u001b[0;34m=\u001b[0m\u001b[0;36m0\u001b[0m\u001b[0;34m\u001b[0m\u001b[0;34m\u001b[0m\u001b[0m\n\u001b[1;32m      4\u001b[0m \u001b[0;32mwhile\u001b[0m \u001b[0msayı\u001b[0m\u001b[0;34m>=\u001b[0m\u001b[0;36m0\u001b[0m\u001b[0;34m:\u001b[0m\u001b[0;34m\u001b[0m\u001b[0;34m\u001b[0m\u001b[0m\n\u001b[1;32m      5\u001b[0m   \u001b[0mtoplam\u001b[0m\u001b[0;34m+=\u001b[0m\u001b[0msayı\u001b[0m\u001b[0;34m\u001b[0m\u001b[0;34m\u001b[0m\u001b[0m\n",
            "\u001b[0;32m/usr/local/lib/python3.11/dist-packages/ipykernel/kernelbase.py\u001b[0m in \u001b[0;36mraw_input\u001b[0;34m(self, prompt)\u001b[0m\n\u001b[1;32m    849\u001b[0m                 \u001b[0;34m\"raw_input was called, but this frontend does not support input requests.\"\u001b[0m\u001b[0;34m\u001b[0m\u001b[0;34m\u001b[0m\u001b[0m\n\u001b[1;32m    850\u001b[0m             )\n\u001b[0;32m--> 851\u001b[0;31m         return self._input_request(str(prompt),\n\u001b[0m\u001b[1;32m    852\u001b[0m             \u001b[0mself\u001b[0m\u001b[0;34m.\u001b[0m\u001b[0m_parent_ident\u001b[0m\u001b[0;34m,\u001b[0m\u001b[0;34m\u001b[0m\u001b[0;34m\u001b[0m\u001b[0m\n\u001b[1;32m    853\u001b[0m             \u001b[0mself\u001b[0m\u001b[0;34m.\u001b[0m\u001b[0m_parent_header\u001b[0m\u001b[0;34m,\u001b[0m\u001b[0;34m\u001b[0m\u001b[0;34m\u001b[0m\u001b[0m\n",
            "\u001b[0;32m/usr/local/lib/python3.11/dist-packages/ipykernel/kernelbase.py\u001b[0m in \u001b[0;36m_input_request\u001b[0;34m(self, prompt, ident, parent, password)\u001b[0m\n\u001b[1;32m    893\u001b[0m             \u001b[0;32mexcept\u001b[0m \u001b[0mKeyboardInterrupt\u001b[0m\u001b[0;34m:\u001b[0m\u001b[0;34m\u001b[0m\u001b[0;34m\u001b[0m\u001b[0m\n\u001b[1;32m    894\u001b[0m                 \u001b[0;31m# re-raise KeyboardInterrupt, to truncate traceback\u001b[0m\u001b[0;34m\u001b[0m\u001b[0;34m\u001b[0m\u001b[0m\n\u001b[0;32m--> 895\u001b[0;31m                 \u001b[0;32mraise\u001b[0m \u001b[0mKeyboardInterrupt\u001b[0m\u001b[0;34m(\u001b[0m\u001b[0;34m\"Interrupted by user\"\u001b[0m\u001b[0;34m)\u001b[0m \u001b[0;32mfrom\u001b[0m \u001b[0;32mNone\u001b[0m\u001b[0;34m\u001b[0m\u001b[0;34m\u001b[0m\u001b[0m\n\u001b[0m\u001b[1;32m    896\u001b[0m             \u001b[0;32mexcept\u001b[0m \u001b[0mException\u001b[0m \u001b[0;32mas\u001b[0m \u001b[0me\u001b[0m\u001b[0;34m:\u001b[0m\u001b[0;34m\u001b[0m\u001b[0;34m\u001b[0m\u001b[0m\n\u001b[1;32m    897\u001b[0m                 \u001b[0mself\u001b[0m\u001b[0;34m.\u001b[0m\u001b[0mlog\u001b[0m\u001b[0;34m.\u001b[0m\u001b[0mwarning\u001b[0m\u001b[0;34m(\u001b[0m\u001b[0;34m\"Invalid Message:\"\u001b[0m\u001b[0;34m,\u001b[0m \u001b[0mexc_info\u001b[0m\u001b[0;34m=\u001b[0m\u001b[0;32mTrue\u001b[0m\u001b[0;34m)\u001b[0m\u001b[0;34m\u001b[0m\u001b[0;34m\u001b[0m\u001b[0m\n",
            "\u001b[0;31mKeyboardInterrupt\u001b[0m: Interrupted by user"
          ]
        }
      ],
      "source": [
        "\n",
        "toplam=0\n",
        "while True:\n",
        "    sayi = int(input(\"Bir sayı girin (negatif bir değer girerek çıkabilirsiniz): \"))\n",
        "    if sayi < 0:\n",
        "        print(\"Negatif bir değer girildi. Program sonlandı kardeşim\")\n",
        "        break\n",
        "    toplam += sayi\n",
        "print(\"Girilen sayıların toplamı:\", toplam)"
      ]
    },
    {
      "cell_type": "code",
      "execution_count": null,
      "metadata": {
        "colab": {
          "base_uri": "https://localhost:8080/"
        },
        "id": "fjkCO-tLrr6j",
        "outputId": "9343c71e-6918-4c89-e957-e5cf524bf409"
      },
      "outputs": [
        {
          "name": "stdout",
          "output_type": "stream",
          "text": [
            "vize notunuzu giriniz:50\n",
            "final notunuzu gırınız:0\n",
            "vize notunuz : 50\n",
            "final notunuz : 0\n",
            "ortalamanız 20.0\n"
          ]
        }
      ],
      "source": [
        "vize=int(input(\"vize notunuzu giriniz:\"))\n",
        "final=int(input(\"final notunuzu gırınız:\"))\n",
        "\n",
        "vize_agırlık=0.4\n",
        "fınal_agırlık=0.6\n",
        "\n",
        "ortalama=(vize*0.4)+(final*0.6)\n",
        "\n",
        "print(\"vize notunuz :\",vize,)\n",
        "print(\"final notunuz :\",final)\n",
        "\n",
        "print(\"ortalamanız\",ortalama)\n"
      ]
    },
    {
      "cell_type": "code",
      "execution_count": null,
      "metadata": {
        "id": "aiQ3r88ma8PT"
      },
      "outputs": [],
      "source": [
        "\n",
        "sayı1=int(input(\"birinci sayıyı giriniz:\"))\n",
        "sayı2=int(input(\"ikinci sayıyı giriniz:\"))\n",
        "toplam=0\n",
        "for i in range(sayı1+1,sayı2):\n",
        "  toplam+=i\n",
        "print(i)"
      ]
    },
    {
      "cell_type": "markdown",
      "metadata": {
        "id": "vEfCNwNNN_Gz"
      },
      "source": [
        "#YAPAY ZEKA ODEV"
      ]
    },
    {
      "cell_type": "code",
      "execution_count": null,
      "metadata": {
        "colab": {
          "base_uri": "https://localhost:8080/"
        },
        "id": "nnLBvsmRtNFX",
        "outputId": "bd23a5cf-653f-4d70-9f1e-73b8818e4375"
      },
      "outputs": [
        {
          "name": "stdout",
          "output_type": "stream",
          "text": [
            "bir sayı giriniz:5\n",
            "us değerini giriniz:2\n",
            "25\n"
          ]
        }
      ],
      "source": [
        "def usAlma():\n",
        "  sayi=int(input(\"bir sayı giriniz:\"))\n",
        "  us=int(input(\"us değerini giriniz:\"))\n",
        "  sonuc=sayi**us\n",
        "  print(sonuc)\n",
        "usAlma()"
      ]
    },
    {
      "cell_type": "code",
      "execution_count": null,
      "metadata": {
        "colab": {
          "base_uri": "https://localhost:8080/"
        },
        "id": "4L_yqH33Od8N",
        "outputId": "d98b7c5a-30ea-4aaa-fbf8-b024be9530d6"
      },
      "outputs": [
        {
          "name": "stdout",
          "output_type": "stream",
          "text": [
            "Kaçıncı elemana kadar sürsün? 8\n",
            "[1, 1, 2, 3, 5, 8, 13, 21]\n"
          ]
        }
      ],
      "source": [
        "def fibonacci():\n",
        "    liste = [1, 1]\n",
        "    n = int(input(\"Kaçıncı elemana kadar sürsün kardeşim \"))\n",
        "    for i in range(2, n):\n",
        "        top = liste[i-1] + liste[i-2]\n",
        "        liste.append(top)\n",
        "    print(liste)\n",
        "fibonacci()"
      ]
    },
    {
      "cell_type": "code",
      "execution_count": null,
      "metadata": {
        "id": "S_1SNJc3hw5L"
      },
      "outputs": [],
      "source": [
        "class müşteri:\n",
        "  def__init__(self,ad,müşteri_no:)\n",
        "  self.ad=ad\n",
        "  self.müşteri_no=müşteri_no\n",
        "class banka:\n",
        "  def__init__(self,müşteri_adı,bakiye:)\n",
        "  self.müşteri_adı=müşteri_adı"
      ]
    },
    {
      "cell_type": "code",
      "execution_count": null,
      "metadata": {
        "colab": {
          "base_uri": "https://localhost:8080/"
        },
        "id": "SxZu8u9ti_A8",
        "outputId": "a696dee7-c91a-46d1-f2c9-39caa60657c5"
      },
      "outputs": [
        {
          "name": "stdout",
          "output_type": "stream",
          "text": [
            "KEMALETTİN TUĞCU hesabı - bakiye: 5000 TL\n",
            "1500 TL yatırıldı. Yeni bakiyeniz: 6500 TL\n",
            "1000 TL çekildi. Yeni bakiyeniz: 5500 TL\n",
            "KEMALETTİN TUĞCU hesabı - bakiye: 5500 TL\n"
          ]
        }
      ],
      "source": [
        "\n",
        "class Musteri:\n",
        "    \"\"\"\n",
        "    Müşteri sınıfı, müşterinin adı ve müşteri numarasını saklar\n",
        "    \"\"\"\n",
        "    def __init__(self, ad, musteri_no):\n",
        "        \"\"\"\n",
        "        Müşteri nesnesini başlatır\n",
        "        :param ad: Müşterinin adı\n",
        "        :param musteri_no: Müşterinin müşteri numarası\n",
        "        \"\"\"\n",
        "        self.ad = ad\n",
        "        self.musteri_no = musteri_no\n",
        "\n",
        "    def __str__(self):\n",
        "        \"\"\"\n",
        "        Müşteri nesnesinin okunaklı bir string olarak döndürür\n",
        "        \"\"\"\n",
        "        return f\"Müşteri: {self.ad} (No: {self.musteri_no})\"\n",
        "\n",
        "class BankaHesabi:\n",
        "    \"\"\"\n",
        "    Banka hesabı sınıfı, bir müşterinin banka hesabını temsil eder\n",
        "    \"\"\"\n",
        "    def __init__(self, musteri, bakiye=0.0):\n",
        "        \"\"\"\n",
        "        Banka hesabı nesnesini başlatır\n",
        "        :param musteri: Müşteri nesnesi\n",
        "        :param bakiye: Başlangıç bakiyesi (varsayılan 0.0)\n",
        "        \"\"\"\n",
        "        self.musteri = musteri\n",
        "        self.bakiye = bakiye\n",
        "\n",
        "    def para_yatir(self, miktar):\n",
        "        \"\"\"\n",
        "        Banka hesabına para yatırır\n",
        "        :param miktar: Yatırılacak para miktarı\n",
        "        \"\"\"\n",
        "        if miktar > 0:\n",
        "            self.bakiye += miktar\n",
        "            print(f\"{miktar} TL yatırıldı. Yeni bakiyeniz: {self.bakiye} TL\")\n",
        "        else:\n",
        "            print(\"Geçersiz para miktarı\")\n",
        "\n",
        "    def para_cek(self, miktar):\n",
        "        \"\"\"\n",
        "        Banka hesabından para çeker\n",
        "        :param miktar: Çekilecek miktar\n",
        "        \"\"\"\n",
        "        if 0 < miktar <= self.bakiye:\n",
        "            self.bakiye -= miktar\n",
        "            print(f\"{miktar} TL çekildi. Yeni bakiyeniz: {self.bakiye} TL\")\n",
        "        elif miktar > self.bakiye:\n",
        "            print(\"Yetersiz bakiye\")\n",
        "        else:\n",
        "            print(\"Geçersiz para miktarı\")\n",
        "\n",
        "    def __str__(self):\n",
        "        \"\"\"\n",
        "        Banka hesabını okunaklı bir string olarak döndürür\n",
        "        \"\"\"\n",
        "        return f\"{self.musteri.ad} hesabı - bakiye: {self.bakiye} TL\"\n",
        "\n",
        "\n",
        "# Müşteriyi ve banka hesabını oluşturuyoruz\n",
        "musteri1 = Musteri(\"KEMALETTİN TUĞCU\", 5001)\n",
        "hesap1 = BankaHesabi(musteri1, 5000)\n",
        "\n",
        "# Banka hesabı bilgilerini yazdıralım\n",
        "print(hesap1)\n",
        "\n",
        "# Para yatırma ve çekme işlemleri\n",
        "hesap1.para_yatir(1500)\n",
        "hesap1.para_cek(1000)\n",
        "\n",
        "# Güncel bakiye bilgilerini gösterelim\n",
        "print(hesap1)\n"
      ]
    },
    {
      "cell_type": "code",
      "execution_count": null,
      "metadata": {
        "colab": {
          "background_save": true,
          "base_uri": "https://localhost:8080/"
        },
        "id": "9c6cJpjEvm3W",
        "outputId": "5ed69547-0c0d-4c66-a9f1-8959fe56d452"
      },
      "outputs": [
        {
          "name": "stdout",
          "output_type": "stream",
          "text": [
            "\n",
            "1 - Müşteri Oluştur\n",
            "2 - Hesap Oluştur\n",
            "3 - Para Yatır\n",
            "4 - Para Çek\n",
            "5 - Hesap Bilgileri\n",
            "6 - Çıkış\n"
          ]
        }
      ],
      "source": [
        "class Musteri:\n",
        "    def __init__(self, ad, musteri_no):\n",
        "        self.ad = ad\n",
        "        self.musteri_no = musteri_no\n",
        "\n",
        "    def __str__(self):\n",
        "        return f\"Müşteri: {self.ad} (No: {self.musteri_no})\"\n",
        "\n",
        "\n",
        "class BankaHesabi:\n",
        "    def __init__(self, musteri, bakiye=0.0):\n",
        "        self.musteri = musteri\n",
        "        self.bakiye = bakiye\n",
        "\n",
        "    def para_yatir(self, miktar):\n",
        "        if miktar > 0:\n",
        "            self.bakiye += miktar\n",
        "            print(f\"{miktar} TL hesabınıza yatırıldı. Yeni bakiye: {self.bakiye} TL\")\n",
        "        else:\n",
        "            print(\"Geçersiz para miktarı.\")\n",
        "\n",
        "    def para_cek(self, miktar):\n",
        "        if 0 < miktar <= self.bakiye:\n",
        "            self.bakiye -= miktar\n",
        "            print(f\"{miktar} TL hesabınızdan çekildi. Yeni bakiye: {self.bakiye} TL\")\n",
        "        else:\n",
        "            print(\"Yetersiz bakiye veya geçersiz para miktarı.\")\n",
        "\n",
        "    def __str__(self):\n",
        "        return f\"{self.musteri} - Bakiye: {self.bakiye} TL\"\n",
        "\n",
        "\n",
        "musteriler = {}\n",
        "hesaplar = {}\n",
        "\n",
        "while True:\n",
        "    print(\"\\n1 - Müşteri Oluştur\")\n",
        "    print(\"2 - Hesap Oluştur\")\n",
        "    print(\"3 - Para Yatır\")\n",
        "    print(\"4 - Para Çek\")\n",
        "    print(\"5 - Hesap Bilgileri\")\n",
        "    print(\"6 - Çıkış\")\n",
        "\n",
        "    secim = input(\"Seçiminizi yapın: \")\n",
        "\n",
        "    if secim == \"1\":\n",
        "        ad = input(\"Müşteri adı: \")\n",
        "        musteri_no = input(\"Müşteri numarası: \")\n",
        "        if musteri_no in musteriler:\n",
        "            print(\"Bu numaraya sahip bir müşteri zaten var.\")\n",
        "        else:\n",
        "            musteriler[musteri_no] = Musteri(ad, musteri_no)\n",
        "            print(f\"{ad} adlı müşteri oluşturuldu.\")\n",
        "\n",
        "    elif secim == \"2\":\n",
        "        musteri_no = input(\"Müşteri numarası: \")\n",
        "        if musteri_no in musteriler:\n",
        "            if musteri_no in hesaplar:\n",
        "                print(\"Bu müşterinin zaten bir banka hesabı var.\")\n",
        "            else:\n",
        "                hesaplar[musteri_no] = BankaHesabi(musteriler[musteri_no])\n",
        "                print(f\"{musteriler[musteri_no]} için banka hesabı oluşturuldu.\")\n",
        "        else:\n",
        "            print(\"Önce müşteri oluşturmalısınız.\")\n",
        "\n",
        "    elif secim == \"3\":\n",
        "        musteri_no = input(\"Müşteri numarası: \")\n",
        "        if musteri_no in hesaplar:\n",
        "            miktar = int(input(\"Yatırılacak miktarı girin: \"))\n",
        "            hesaplar[musteri_no].para_yatir(miktar)\n",
        "        else:\n",
        "            print(\"Bu müşteriye ait bir hesap bulunamadı.\")\n",
        "\n",
        "    elif secim == \"4\":\n",
        "        musteri_no = input(\"Müşteri numarası: \")\n",
        "        if musteri_no in hesaplar:\n",
        "            miktar = int(input(\"Çekilecek miktarı girin: \"))\n",
        "            hesaplar[musteri_no].para_cek(miktar)\n",
        "        else:\n",
        "            print(\"Bu müşteriye ait bir hesap bulunamadı.\")\n",
        "\n",
        "    elif secim == \"5\":\n",
        "        musteri_no = input(\"Müşteri numarası: \")\n",
        "        if musteri_no in hesaplar:\n",
        "            print(hesaplar[musteri_no])\n",
        "        else:\n",
        "            print(\"Bu müşteriye ait bir hesap bulunamadı.\")\n",
        "\n",
        "    elif secim == \"6\":\n",
        "        print(\"Çıkış yapılıyor...\")\n",
        "        break\n",
        "\n",
        "    else:\n",
        "        print(\"Geçersiz seçim, lütfen tekrar deneyin.\")\n",
        "\n"
      ]
    },
    {
      "cell_type": "code",
      "execution_count": null,
      "metadata": {
        "id": "cEC9sz63z2JX"
      },
      "outputs": [],
      "source": [
        "class arac:\n",
        "  def __init__(self,marka,model,uretim_yili):\n",
        "    \"\"\"\n",
        "    araç nesnesini başlatır\n",
        "\n",
        "    parameters\n",
        "    ----------\n",
        "    marka : aracın markası\n",
        "    model : aracın modeli\n",
        "    yili : aracın üretim yılı\n",
        "    \"\"\"\n",
        "    self.marka=marka\n",
        "    self.model=model\n",
        "    self.yili=yili\n",
        "\n",
        "  def __str__(self):\n",
        "    \"\"\"\n",
        "    araç nesnesini okunaklı bir string olarak döndürür\n",
        "    \"\"\"\n",
        "    return f\"marka:{self.marka} model:{self.model} yili:{self.yili}\"\n",
        "\n",
        "class AracKiralma:\n",
        "  \"\"\"\n",
        "  arac kiralama sınıfı aracın kiralama işlemini yönetir\n",
        "  \"\"\"\n",
        "  def __init__(self):\n",
        "    \"\"\"\n",
        "    araç kiralama nesnesini başlatır ve boş bir arac liestesi oluşturur\n",
        "    \"\"\"\n",
        "    self.araclar=[]\n",
        "    self.kiralanan_araclar={}\n",
        "\n",
        "  def arac_ekle(self,arac):\n",
        "    \"\"\"\n",
        "    bu fonksıyon sısteme yenı bır arac ekler\n",
        "\n",
        "    param arac: arac nesnesi\n",
        "    \"\"\"\n",
        "    self.araclar.append(arac)\n",
        "    print(f\"arac eklendi{arac}\")\n",
        "\n",
        "  def arac_kirala(self,musteri_adi,arac_marka_model):\n",
        "    \"\"\"\n",
        "    belirtilen araç kiralanır.\n",
        "\n",
        "    parameters\n",
        "    ----------\n",
        "    musteri_adi:kirayan kişinin adı\n",
        "    arac_marka_model:kiralanana aracın marka ve modeli\n",
        "    \"\"\"\n",
        "    for arac in self.araclar:\n",
        "      if f\"{arac.marka} {arac.model}\"==arac_marka_model:\n",
        "        self.kiralanan_araclar[musteri_adi]=arac\n",
        "        self.araclar.remove(arac)\n",
        "        print(f\"{musteri_adi} tarafından {arac} kiralandı\")\n",
        "        return\n",
        "        print(\"arac mevcut değil veya daha önce kiralandı\")\n",
        "\n",
        "  def arac_iade_et(self,musteri_adi):\n",
        "    \"\"\"\n",
        "    kiralanan aracın iadesi yapılır\n",
        "\n",
        "    parameters\n",
        "    ----------\n",
        "    musteri_adi:iade alınan kişinin adı\n",
        "    \"\"\"\n",
        "    if musteri_adi in self.kiralanan_araçlar:\n",
        "      arac=self.kiralanan_araclar.pop(musteri_adi)\n",
        "      self.araclar.append(arac)\n",
        "      print(f\"{musteri_adı} tarafından {arac} iade edildi\")\n",
        "    else:\n",
        "      print(\"bu müşteri adına kayıtlı araç bulunamamaktadır\")\n",
        "\n",
        "  def mevcut_aracları_listele(self):\n",
        "    \"\"\"\n",
        "    mevcut araçları listeler\n",
        "    \"\"\"\n",
        "    print(\"mevcut araçlar:\")\n",
        "    for arac in self.araclar:\n",
        "      print(arac)\n",
        "    if not self.araclar:\n",
        "      print(\"şuan da kiralanabilir araç bulunmamaktadır\")\n",
        "\n",
        "\n",
        "# arac kiralama sistemini oluşturalım\n",
        "kiralama_sistemi=AracKiralama()\n",
        "\n",
        "#aracları ekleyelim\n",
        "arac1=arac(\"toyota\",\"corolla\",\"2022\")\n",
        "arac2=arac(\"honda\",\"civic\",\"2021\")\n",
        "arac3=arac(\"ford\",\"mustang\",\"2020\")\n",
        "\n",
        "kiralama_sistemi.arac_ekle(arac1)\n",
        "kiralama_sistemi.arac_ekle(arac2)\n",
        "kiralama_sistemi.arac_ekle(arac3)\n",
        "\n",
        "#mevcut aracları listeleyelim\n",
        "kiralama_sistemi.mevcut_aracları_listele()\n",
        "\n",
        "# Bir müşteri araç kiralasın\n",
        "kiralama_sistemi.arac_kirala(\"furkan\",\"toyota corolla\")\n",
        "\n",
        "# Müşteri aracını iade etsin\n",
        "kiralama_sistemi.arac_iade_et(\"furkan\" )\n",
        "\n",
        "# Mevcut araçları listeleyelim\n",
        "kiralama_sistemi.mevcut_aracları_listele()\n",
        "\n"
      ]
    },
    {
      "cell_type": "code",
      "execution_count": null,
      "metadata": {
        "id": "6Fc-dTXM7tiL"
      },
      "outputs": [],
      "source": [
        "class araclar:\n",
        "   def __init__:(self,marka,model,uretim_yili)\n",
        "    self.marka=marka\n",
        "    self.model=model\n",
        "    self.uretim_yili=uretim_yili\n",
        "\n",
        "  def __yazdir__(self):\n",
        "    return f\"marka:\",self.marka,\"model:\",self.model,\"uretim_yili:\",uretim_yili\n",
        "\n",
        "\n",
        "class arac_kirala:\n",
        "  def __init__(self):\n",
        "  araclar=[]\n",
        "  kiralanan_araclar={}\n",
        "\n",
        "\n",
        "class arac_ekle:\n",
        "\n",
        "  def __init__(self,arac)\n",
        "    self.araclar.append(arac)\n",
        "    print(f\"aracınız eklendi:\",{arac})\n",
        "\n",
        "  def arac_kirala(self,musteri_adi,arac_marka_model):\n",
        "\n",
        "\n",
        "\n",
        "\n"
      ]
    },
    {
      "cell_type": "code",
      "execution_count": null,
      "metadata": {
        "colab": {
          "base_uri": "https://localhost:8080/"
        },
        "id": "8eQKp0iruWok",
        "outputId": "311af876-5add-4ed1-a78a-23888913ca14"
      },
      "outputs": [
        {
          "name": "stdout",
          "output_type": "stream",
          "text": [
            "Eski Model\n",
            "\n",
            "    Marka: Samsung\n",
            "    Model: s10\n",
            "    Renk: Siyah\n",
            "    İşletim Sistemi: Android\n",
            "    Fiyat: 5000\n",
            "    \n",
            "Yeni telefona zam yapılıyor\n",
            "\n",
            "    Marka: Samsung\n",
            "    Model: s10\n",
            "    Renk: Siyah\n",
            "    İşletim Sistemi: Android\n",
            "    Fiyat: 15000\n",
            "    \n"
          ]
        }
      ],
      "source": [
        "class Telefon():\n",
        "  def __init__(self, marka, model, renk, isletimsistemi, fiyat):\n",
        "    print(\"Eski Model\")\n",
        "    self.marka = marka\n",
        "    self.model = model\n",
        "    self.renk = renk\n",
        "    self.isletimsistemi = isletimsistemi\n",
        "    self.fiyat = fiyat\n",
        "\n",
        "  def bilgileriGoster(self):\n",
        "    print(\"\"\"\n",
        "    Marka: {}\n",
        "    Model: {}\n",
        "    Renk: {}\n",
        "    İşletim Sistemi: {}\n",
        "    Fiyat: {}\n",
        "    \"\"\".format(self.marka, self.model, self.renk, self.isletimsistemi, self.fiyat))\n",
        "\n",
        "class YeniTelefon(Telefon):\n",
        "  def zamyap(self, zamMiktari):\n",
        "    print(\"Yeni telefona zam yapılıyor\")\n",
        "    self.fiyat += zamMiktari\n",
        "  pass\n",
        "yenitelefon1 = YeniTelefon(\"Samsung\", \"s10\", \"Siyah\", \"Android\", 5000)\n",
        "yenitelefon1.bilgileriGoster()\n",
        "yenitelefon1.zamyap(10000)\n",
        "yenitelefon1.bilgileriGoster()\n"
      ]
    },
    {
      "cell_type": "code",
      "execution_count": null,
      "metadata": {
        "id": "E2M9OkKkwt2u"
      },
      "outputs": [],
      "source": [
        "\n",
        "class calısan:\n",
        "  def __init__(self,ad,soyad,tcno)\n",
        "  self.ad=ad\n",
        "  self.soyad=soyad\n",
        "  self.tcno=tcno\n",
        "  self.prim=3000\n",
        "\n",
        "class mudur(calisan):\n",
        "  def __init__(self,ad,soyad,tcno,maas)\n",
        "  super().__init__(ad,soyad,tcno)\n",
        "  self.maas=maas\n",
        "  self.prim=400  #override\n",
        "\n",
        "class teknikPersonel(calisan):\n",
        "  def __init__(self,ad,soyad,tcno,maas)\n",
        "  super().__init__(ad,soyad,tcno)\n",
        "  self.maas=maas\n",
        "  self.prim=3500\n"
      ]
    },
    {
      "cell_type": "code",
      "execution_count": null,
      "metadata": {
        "id": "eMvfNT9_7OBh"
      },
      "outputs": [],
      "source": [
        "# prompt: rent a a car system\n",
        "\n",
        "class Arac:\n",
        "    def __init__(self, marka, model, uretim_yili, kira_ucreti):\n",
        "        self.marka = marka\n",
        "        self.model = model\n",
        "        self.uretim_yili = uretim_yili\n",
        "        self.kira_ucreti = kira_ucreti\n",
        "        self.kiralandi_mi = False\n",
        "\n",
        "    def __str__(self):\n",
        "        return f\"Marka: {self.marka}, Model: {self.model}, Üretim Yılı: {self.uretim_yili}, Kira Ücreti: {self.kira_ucreti}\"\n",
        "\n",
        "\n",
        "class AracKiralamaSistemi:\n",
        "    def __init__(self):\n",
        "        self.araclar = []\n",
        "        self.kiralanan_araclar = {}\n",
        "\n",
        "    def arac_ekle(self, arac):\n",
        "        self.araclar.append(arac)\n",
        "        print(f\"{arac} sisteme eklendi.\")\n",
        "\n",
        "    def arac_kirala(self, musteri_adi, arac_marka, arac_model):\n",
        "        for arac in self.araclar:\n",
        "            if arac.marka == arac_marka and arac.model == arac_model and not arac.kiralandi_mi:\n",
        "                arac.kiralandi_mi = True\n",
        "                self.kiralanan_araclar[musteri_adi] = arac\n",
        "                print(f\"{musteri_adi} adlı müşteri {arac} aracını kiraladı.\")\n",
        "                return\n",
        "\n",
        "        print(\"Aradığınız araç bulunamadı veya kiralık.\")\n",
        "\n",
        "    def arac_iade_et(self, musteri_adi):\n",
        "        if musteri_adi in self.kiralanan_araclar:\n",
        "            arac = self.kiralanan_araclar.pop(musteri_adi)\n",
        "            arac.kiralandi_mi = False\n",
        "            print(f\"{musteri_adi} adlı müşteri {arac} aracını iade etti.\")\n",
        "        else:\n",
        "            print(\"Bu müşteriye ait kiralık bir araç bulunamadı.\")\n",
        "\n",
        "    def mevcut_araclar(self):\n",
        "        print(\"Mevcut Araçlar:\")\n",
        "        for arac in self.araclar:\n",
        "            if not arac.kiralandi_mi:\n",
        "              print(arac)\n",
        "\n",
        "# Örnek kullanım\n",
        "sistem = AracKiralamaSistemi()\n",
        "\n",
        "# Araçları ekleyelim\n",
        "sistem.arac_ekle(Arac(\"Toyota\", \"Corolla\", 2023, 150))\n",
        "sistem.arac_ekle(Arac(\"Honda\", \"Civic\", 2022, 120))\n",
        "sistem.arac_ekle(Arac(\"Ford\", \"Mustang\", 2021, 200))\n",
        "\n",
        "# Mevcut araçları listele\n",
        "sistem.mevcut_araclar()\n",
        "\n",
        "# Araç kirala\n",
        "sistem.arac_kirala(\"Ahmet Yılmaz\", \"Toyota\", \"Corolla\")\n",
        "\n",
        "# Mevcut araçları tekrar listele\n",
        "sistem.mevcut_araclar()\n",
        "\n",
        "# Araç iade et\n",
        "sistem.arac_iade_et(\"Ahmet Yılmaz\")\n",
        "\n",
        "# Mevcut araçları listele\n",
        "sistem.mevcut_araclar()\n"
      ]
    }
  ],
  "metadata": {
    "colab": {
      "provenance": [],
      "collapsed_sections": [
        "RdWVjCBqIHgo"
      ],
      "toc_visible": true
    },
    "kernelspec": {
      "display_name": "Python 3",
      "name": "python3"
    },
    "language_info": {
      "name": "python"
    }
  },
  "nbformat": 4,
  "nbformat_minor": 0
}
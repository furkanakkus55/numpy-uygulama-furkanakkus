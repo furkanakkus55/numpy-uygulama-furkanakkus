{
  "nbformat": 4,
  "nbformat_minor": 0,
  "metadata": {
    "colab": {
      "provenance": []
    },
    "kernelspec": {
      "name": "python3",
      "display_name": "Python 3"
    },
    "language_info": {
      "name": "python"
    }
  },
  "cells": [
    {
      "cell_type": "code",
      "execution_count": null,
      "metadata": {
        "id": "0DSLEAIiC-Tp"
      },
      "outputs": [],
      "source": [
        "# NUMPY GETTİNG STARTED\n",
        "# NUMPY KÜTÜPHANESİ YÜKLÜ OLUP OLMADIĞINI KONTROL EDİYORUM\n",
        "import numpy as np\n",
        "print(np.__version__)"
      ]
    },
    {
      "cell_type": "code",
      "source": [
        "# NUMPY CREATİNG ARRAYS\n",
        "# BURADA BİR NUMPY DİZİSİ OLUŞTURUYORUM VE YAZDIRIYORUM.\n",
        "arr = np.array([1, 2, 3, 4, 5, 6, 7, 8, 9, 10]) # 10 elemanı olan bir liste\n",
        "print(arr) # dizi ekrana yazdırılıyor"
      ],
      "metadata": {
        "id": "GM4u13vODW5o"
      },
      "execution_count": null,
      "outputs": []
    },
    {
      "cell_type": "code",
      "source": [
        "# NUMPY ARRAY İNDEXİNG\n",
        "# BİR LİSTE İÇERİSİNDEKİ ELEMANA İNDEX NUMARASI İLE ERİŞİM SAĞLIYORUM\n",
        "arr = np.array([i for i in range(1, 10001)])\n",
        "print(arr[430])  # 430. indeksteki eleman olan 431'i yazdırıyor."
      ],
      "metadata": {
        "id": "yfJtT3aBDYxn"
      },
      "execution_count": null,
      "outputs": []
    },
    {
      "cell_type": "code",
      "source": [
        "# NUMPY ARRAY SLİCİNG\n",
        "# NUMPY DİZİLERİNDE SLİCİNG(DİLİMLEME) ÖRNEĞİ YAPIYORUM VE EKRANA ÇIKTISINI YAZIYORUM.\n",
        "arr = np.array([i for i in range(1, 10001)])\n",
        "print(arr[1:500])  # 1. ve 500. indeks arasındaki elemanları yazdırır: [2, 3,...,500]"
      ],
      "metadata": {
        "id": "3MVJC7E6DbQP"
      },
      "execution_count": null,
      "outputs": []
    },
    {
      "cell_type": "code",
      "source": [
        "# NUMPY DATA TYPES\n",
        "# NUMPY DİZİSİNİN VERİ TİPİNİ ÖĞRENİYORUM VE EKRANA YAZDIRIYORUM.\n",
        "arr = np.array([1, 2, 3, 4 , 5, 6, 7])  # dizi oluşturuldu\n",
        "print(arr.dtype)  # Dizi elemanlarının veri tipini yazdırıyorum"
      ],
      "metadata": {
        "id": "7nhIPHo2DdWP"
      },
      "execution_count": null,
      "outputs": []
    },
    {
      "cell_type": "code",
      "source": [
        "# NUMPY COPY VS VİE\n",
        "# NUMPY DİZİSİNİN GÖRÜNÜMÜNÜ VE KOPYASINI KARŞILAŞTIRMAK\n",
        "import numpy as np\n",
        "\n",
        "# 1000 e kadar olan bir liste oluşturuyorum\n",
        "arr = np.array([i for i in range(1, 10001)])\n",
        "\n",
        "# Görünüm ve kopya dizisi oluşturuyorum\n",
        "view_arr = arr.view()  # Görünüm (view)\n",
        "copy_arr = arr.copy()  # Kopya\n",
        "\n",
        "# Mevcut dizinin ilk elemanını değiştiriyorum\n",
        "arr[0] = 102  #ilk eleman değişti ve artık [102] oldu\n",
        "\n",
        "#4.elemandan 15.inci elemana kadar görünümünü yazdırıyorum\n",
        "print(\"Görünüm Dizisi yazdırılıyor(View):\", view_arr[4:15])#5.elemandan 15.inci elemana kadar yazdırıyorum\n",
        "\n",
        "# İlk 15 elemanı yazdırıyorum\n",
        "print(\"Kopya Dizisi yazdırılıyor(Copy):\", copy_arr[:15])  # İlk 15 elemanı yazdırıyorum"
      ],
      "metadata": {
        "id": "nVVRFq_HDftH"
      },
      "execution_count": null,
      "outputs": []
    },
    {
      "cell_type": "code",
      "source": [
        "# NUMPY ARRAY RESHAPE\n",
        "# NUMPY DİZİSİNDE SATIR VE SÜTÜN OLUŞTURMAK\n",
        "import numpy as np\n",
        "\n",
        "#Bir 2D NumPy dizisi oluşturuyorum\n",
        "#i: Satır numarasını temsil eder.\n",
        "#j: Sütun numarasını temsil eder.\n",
        "arr = np.array([[i + j for j in range(100)] for i in range(100)])\n",
        "\n",
        "# Dizinin şeklini inceliyorum\n",
        "print(arr.shape)  #Dizinin şekli satır ve sütun olarak yazdırılıyor(100,100)"
      ],
      "metadata": {
        "id": "KK5I8u-PDiD_"
      },
      "execution_count": null,
      "outputs": []
    },
    {
      "cell_type": "code",
      "source": [
        "# NUMPY ARRAY RESHAPE\n",
        "# NUMPY DİZİSİNİ YENİDEN ŞEKİLLENDİRMEK İÇİN KULLANIYORUM\n",
        "arr = np.array([1, 2, 3, 4, 5, 6])\n",
        "reshaped_arr = arr.reshape(2, 3)  #Yeni bir dizi oluşturuldu\n",
        "print(reshaped_arr)\n"
      ],
      "metadata": {
        "id": "enJOpOBmDkhH"
      },
      "execution_count": null,
      "outputs": []
    },
    {
      "cell_type": "code",
      "source": [
        "# NUMPY ARRAY İTERATİNG\n",
        "# NUMPY DİZİLERİNDE DÖNGÜ İLE İTERASYON YAPIYORUM.\n",
        "import numpy as np\n",
        "\n",
        "# BİR LİSTE OLUŞTURDUM (100 e kadar sayılar içeren)\n",
        "arr = np.array([i for i in range(1, 101)])\n",
        "\n",
        "# Diziyi tek tek yineleyip elemanları yazdırıyorum\n",
        "for eleman in arr:\n",
        "    print(eleman)"
      ],
      "metadata": {
        "id": "xYSELFX8DmWn"
      },
      "execution_count": null,
      "outputs": []
    },
    {
      "cell_type": "code",
      "source": [
        "# NUMPY ARRAY JOİN\n",
        "# İKİ AYRI NUMPY DİZİSİNİ BİRLEŞTİRİYORUM.\n",
        "arr1 = np.array([1, 2, 3]) #1. diziyi oluşturdum\n",
        "arr2 = np.array([4, 5, 6]) #2.diziyi oluşturdum\n",
        "joined_arr = np.concatenate((arr1, arr2))  # İki diziyi birleştiriyorum\n",
        "print(\"elde edilen yeni dizi:\",joined_arr)  # ekrana yazdırılıyor"
      ],
      "metadata": {
        "id": "Fvf1z9xMDoKv"
      },
      "execution_count": null,
      "outputs": []
    },
    {
      "cell_type": "code",
      "source": [
        "# NUMPY ARRAY SPLİT\n",
        "# NUMPY DİZİLERİNDE ELİMİZDE OLAN DİZİLERİ BÖLMEK.\n",
        "\n",
        "arr = np.array([1, 2, 3, 4, 5, 6]) #  6 elamanlı dizi oluşturdum\n",
        "split_arr = np.split(arr, 3)  # Diziyi 3 eşit parçaya bölüyorum\n",
        "print(split_arr)  # [array([1, 2]), array([3, 4]), array([5, 6])]\n",
        "                  # yukarıdaki şekildeki gibi bir çıktı alacağız.\n"
      ],
      "metadata": {
        "id": "CtK2BDjVDqBn"
      },
      "execution_count": null,
      "outputs": []
    },
    {
      "cell_type": "code",
      "source": [
        "# NUMPY ARRAY SEARCH\n",
        "# NUMPY DİZİLERİ İÇERİSİNDE ARAMA YAPMAK\n",
        "arr = np.array([1, 2, 3, 4, 5]) # 5 elemanlı dizi oluşturdum\n",
        "index_of_3 = np.where(arr == 3)  # 3'ün indeksini arıyorum\n",
        "print( \"aradığınız dizi elemanı:\",index_of_3)  #3'ün indeksi 2'dir"
      ],
      "metadata": {
        "id": "pbL9RU8SDr0f"
      },
      "execution_count": null,
      "outputs": []
    },
    {
      "cell_type": "code",
      "source": [
        "# NUMPY ARRAY SORT\n",
        "# NUMPY DİZİSİNDEKİ ELEMANLARI SIRALAMAK\n",
        "arr = np.array([5, 2, 3, 1, 4]) # 5 elemanlı bir liste oluşturuldu\n",
        "sorted_arr = np.sort(arr)  # Diziyi küçükten büyüğe sıralıyorum\n",
        "print(sorted_arr)  # ekrana yazdırılıyor"
      ],
      "metadata": {
        "id": "xkvB_X_wDtqH"
      },
      "execution_count": null,
      "outputs": []
    },
    {
      "cell_type": "code",
      "source": [
        "# NUMPY ARRAY FİLTER\n",
        "# NUMPY DİZİSİNDE FİLTRELEME YAPMAK\n",
        "import numpy as np\n",
        "\n",
        "# Büyük bir dizi oluşturuyorum (1'den 10000'e kadar olan sayılar)\n",
        "arr = np.array([i for i in range(1, 10001)])\n",
        "\n",
        "# 5000'den büyük olan elemanları alıyorum\n",
        "filtered_arr = arr[arr > 5000]\n",
        "\n",
        "# Filtrelenmiş diziyi yazdırıyorum (ilk 10 elemanını göstereceğim)\n",
        "print(filtered_arr[:50])  # İlk 50 elemanı yazdırıyorum"
      ],
      "metadata": {
        "id": "OzrFwo8KDvqH"
      },
      "execution_count": null,
      "outputs": []
    }
  ]
}